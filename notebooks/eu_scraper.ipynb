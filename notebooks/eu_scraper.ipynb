{
  "nbformat": 4,
  "nbformat_minor": 0,
  "metadata": {
    "colab": {
      "name": "eu_scraper.ipynb",
      "provenance": []
    },
    "kernelspec": {
      "name": "python3",
      "display_name": "Python 3"
    },
    "language_info": {
      "name": "python"
    }
  },
  "cells": [
    {
      "cell_type": "code",
      "execution_count": null,
      "metadata": {
        "id": "JbemWR4fgB9Q"
      },
      "outputs": [],
      "source": [
        "!pip install selenium\n",
        "!apt-get update \n",
        "!apt install chromium-chromedriver\n",
        "\n",
        "from selenium import webdriver\n",
        "from bs4 import BeautifulSoup\n",
        "import time\n",
        "chrome_options = webdriver.ChromeOptions()\n",
        "chrome_options.add_argument('--headless')\n",
        "chrome_options.add_argument('--no-sandbox')\n",
        "chrome_options.add_argument('--disable-dev-shm-usage')\n",
        "driver = webdriver.Chrome('chromedriver',chrome_options=chrome_options)"
      ]
    },
    {
      "cell_type": "code",
      "source": [
        "def eu_scraper(output_path: str, num_of_records: int):\n",
        "  start_row = 0\n",
        "  final_links = []\n",
        "  print(\"Starting the download.\")\n",
        "  while start_row < num_of_records:\n",
        "    driver.get(f\"https://op.europa.eu/en/search-results?p_p_id=eu_europa_publications_portlet_search_executor_SearchExecutorPortlet_INSTANCE_q8EzsBteHybf&p_p_lifecycle=1&p_p_state=normal&queryText=poverty&facet.collection=EULex%2CEUPub%2CEUDir%2CEUWebPage%2CEUSummariesOfLegislation&startRow={start_row}&resultsPerPage=10&SEARCH_TYPE=SIMPLE\")\n",
        "    html = driver.page_source\n",
        "    soup = BeautifulSoup(html)\n",
        "\n",
        "    MAIN_URL = \"https://op.europa.eu/\"\n",
        "    links = []\n",
        "    for tag in soup.find_all(\"a\", {\"class\": \"download\"}):\n",
        "      links.append(tag.get(\"data-uri\"))\n",
        "\n",
        "\n",
        "    for link in links:\n",
        "      final_link = f\"{MAIN_URL}{link}\"\n",
        "      final_links.append(final_link)\n",
        "    start_row += 10\n",
        "    print(start_row)\n",
        "    time.sleep(5)\n",
        "  print(\"Writing the file\")\n",
        "  with open(output_path, 'w') as output_file:\n",
        "    for link in final_links:\n",
        "        output_file.write(link + '\\n')\n",
        "  print(\"Process complete\")\n"
      ],
      "metadata": {
        "id": "_08bz9TDgC89"
      },
      "execution_count": 4,
      "outputs": []
    },
    {
      "cell_type": "code",
      "source": [
        "eu_scraper(\"links.txt\", 50)"
      ],
      "metadata": {
        "colab": {
          "base_uri": "https://localhost:8080/"
        },
        "id": "W2eqw3dxgSy-",
        "outputId": "6621c9b1-ffb8-4f24-8eae-c41bd2f66321"
      },
      "execution_count": 3,
      "outputs": [
        {
          "output_type": "stream",
          "name": "stdout",
          "text": [
            "Starting the download\n",
            "10\n",
            "20\n",
            "30\n",
            "40\n",
            "50\n",
            "Writing the file\n"
          ]
        }
      ]
    }
  ]
}
