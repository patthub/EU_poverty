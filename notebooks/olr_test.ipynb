{
 "cells": [
  {
   "cell_type": "code",
   "execution_count": 44,
   "metadata": {},
   "outputs": [],
   "source": [
    "from pdf_layout_scanner import layout_scanner\n",
    "import layoutparser as lp\n",
    "import os\n",
    "model = lp.AutoLayoutModel('lp://EfficientDete/PubLayNet')"
   ]
  },
  {
   "cell_type": "code",
   "execution_count": 45,
   "metadata": {},
   "outputs": [],
   "source": [
    "files = os.listdir('../data')"
   ]
  },
  {
   "cell_type": "code",
   "execution_count": 46,
   "metadata": {},
   "outputs": [],
   "source": [
    "# open files to ommit\n",
    "with open('../results/pdf_file_error.txt', 'r') as f:\n",
    "    pdf_file_error = f.read().splitlines()\n",
    "\n",
    "with open('../results/pdf_digital_error.txt', 'r') as f:\n",
    "    pdf_digital_error = f.read().splitlines()"
   ]
  },
  {
   "cell_type": "code",
   "execution_count": 47,
   "metadata": {},
   "outputs": [],
   "source": [
    "files_to_process = []\n",
    "for file in files:\n",
    "    if ('data/' + file in pdf_digital_error) or ('data/' + file in pdf_file_error):\n",
    "        continue\n",
    "    files_to_process.append(file)\n",
    "    "
   ]
  },
  {
   "cell_type": "code",
   "execution_count": 48,
   "metadata": {},
   "outputs": [],
   "source": [
    "files_to_process_short = files_to_process[0:10]"
   ]
  },
  {
   "cell_type": "code",
   "execution_count": 51,
   "metadata": {},
   "outputs": [
    {
     "name": "stdout",
     "output_type": "stream",
     "text": [
      "f13a8c2f-438a-11e2-9b3b-01aa75ed71a1.pdf\n",
      "84b06aa4-af37-420e-8686-125a6c8e806d.pdf\n",
      "7946dca2-34c6-45f7-b52b-0e516517401c.pdf\n",
      "b606aeaf-636f-4814-ac9a-109ba45d387b.pdf\n",
      "ad798d44-ee53-4970-9a70-9df244160a70.pdf\n",
      "c812e2a0-81d0-4a40-a08d-3600577fcd0a.pdf\n",
      "d7cc507b-3166-4bd7-8aac-ed3313ddfb8d.pdf\n",
      "4686579f-a75e-4438-83f2-a766dd4d832d.pdf\n",
      "6ffd48ae-79e2-11e8-ac6a-01aa75ed71a1.pdf\n",
      "5246cebe-301c-415a-b97f-f5ab28dabf89.pdf\n"
     ]
    }
   ],
   "source": [
    "layouts = []\n",
    "for file in files_to_process_short:\n",
    "    print(file)\n",
    "    layouts.append(lp.load_pdf('../data/' +file))"
   ]
  },
  {
   "cell_type": "code",
   "execution_count": 55,
   "metadata": {},
   "outputs": [
    {
     "name": "stdout",
     "output_type": "stream",
     "text": [
      "f13a8c2f-438a-11e2-9b3b-01aa75ed71a1.pdf\n",
      "84b06aa4-af37-420e-8686-125a6c8e806d.pdf\n",
      "7946dca2-34c6-45f7-b52b-0e516517401c.pdf\n",
      "b606aeaf-636f-4814-ac9a-109ba45d387b.pdf\n",
      "ad798d44-ee53-4970-9a70-9df244160a70.pdf\n",
      "c812e2a0-81d0-4a40-a08d-3600577fcd0a.pdf\n",
      "d7cc507b-3166-4bd7-8aac-ed3313ddfb8d.pdf\n",
      "4686579f-a75e-4438-83f2-a766dd4d832d.pdf\n",
      "6ffd48ae-79e2-11e8-ac6a-01aa75ed71a1.pdf\n",
      "5246cebe-301c-415a-b97f-f5ab28dabf89.pdf\n"
     ]
    }
   ],
   "source": [
    "for file, layout in zip(files_to_process_short, layouts):\n",
    "    print(file)\n",
    "    blocks = []\n",
    "    for l in layout:   \n",
    "        text = ''\n",
    "        for block in l._blocks:\n",
    "            text += block.text\n",
    "            text += ' '\n",
    "        blocks.append(text)\n",
    "\n",
    "    with open ('olr_test.txt', 'a+') as f:\n",
    "        f.write('\\n')\n",
    "        f.write('\\n')\n",
    "        f.write(file)\n",
    "        f.write('\\n')\n",
    "        for block in blocks:\n",
    "            f.write(block)\n",
    "            f.write('\\n')"
   ]
  },
  {
   "cell_type": "code",
   "execution_count": null,
   "metadata": {},
   "outputs": [],
   "source": []
  }
 ],
 "metadata": {
  "kernelspec": {
   "display_name": ".venv",
   "language": "python",
   "name": "python3"
  },
  "language_info": {
   "codemirror_mode": {
    "name": "ipython",
    "version": 3
   },
   "file_extension": ".py",
   "mimetype": "text/x-python",
   "name": "python",
   "nbconvert_exporter": "python",
   "pygments_lexer": "ipython3",
   "version": "3.10.6"
  },
  "orig_nbformat": 4
 },
 "nbformat": 4,
 "nbformat_minor": 2
}
