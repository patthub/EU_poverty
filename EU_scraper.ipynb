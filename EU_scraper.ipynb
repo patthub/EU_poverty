{
  "nbformat": 4,
  "nbformat_minor": 0,
  "metadata": {
    "colab": {
      "name": "EU_scraper.ipynb",
      "provenance": []
    },
    "kernelspec": {
      "name": "python3",
      "display_name": "Python 3"
    },
    "language_info": {
      "name": "python"
    }
  },
  "cells": [
    {
      "cell_type": "code",
      "execution_count": null,
      "metadata": {
        "id": "YibFTrVQ97Do"
      },
      "outputs": [],
      "source": [
        "!pip install selenium\n",
        "!apt-get update \n",
        "!apt install chromium-chromedriver\n",
        "\n",
        "from selenium import webdriver\n",
        "from bs4 import BeautifulSoup\n",
        "import time\n",
        "chrome_options = webdriver.ChromeOptions()\n",
        "chrome_options.add_argument('--headless')\n",
        "chrome_options.add_argument('--no-sandbox')\n",
        "chrome_options.add_argument('--disable-dev-shm-usage')\n",
        "driver = webdriver.Chrome('chromedriver',chrome_options=chrome_options)"
      ]
    },
    {
      "cell_type": "code",
      "source": [
        "start_row = 0\n",
        "final_links = []\n",
        "while start_row < 3000:\n",
        "  driver.get(f\"https://op.europa.eu/en/search-results?p_p_id=eu_europa_publications_portlet_search_executor_SearchExecutorPortlet_INSTANCE_q8EzsBteHybf&p_p_lifecycle=1&p_p_state=normal&queryText=poverty&facet.collection=EULex%2CEUPub%2CEUDir%2CEUWebPage%2CEUSummariesOfLegislation&startRow={start_row}&resultsPerPage=10&SEARCH_TYPE=SIMPLE\")\n",
        "  html = driver.page_source\n",
        "  soup = BeautifulSoup(html)\n",
        "\n",
        "  MAIN_URL = \"https://op.europa.eu/\"\n",
        "  links = []\n",
        "  for tag in soup.find_all(\"a\", {\"class\": \"download\"}):\n",
        "    links.append(tag.get(\"data-uri\"))\n",
        "\n",
        "\n",
        "  for link in links:\n",
        "    final_link = f\"{MAIN_URL}{link}\"\n",
        "    final_links.append(final_link)\n",
        "  start_row += 10\n",
        "  print(start_row)\n",
        "  time.sleep(5)"
      ],
      "metadata": {
        "id": "ItRudRdO99Nk"
      },
      "execution_count": null,
      "outputs": []
    },
    {
      "cell_type": "code",
      "source": [
        "with open('linki.txt', 'w') as output_file:\n",
        "    for link in final_links:\n",
        "        output_file.write(link + '\\n')"
      ],
      "metadata": {
        "id": "heN1CnGmIJaq"
      },
      "execution_count": 12,
      "outputs": []
    },
    {
      "cell_type": "code",
      "source": [
        "final_links"
      ],
      "metadata": {
        "id": "DR0sWJUAIMTA"
      },
      "execution_count": null,
      "outputs": []
    }
  ]
}